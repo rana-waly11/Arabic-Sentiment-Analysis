{
 "cells": [
  {
   "cell_type": "code",
   "execution_count": 1,
   "id": "32aa0240-90f4-4415-8d3e-1946fbfa682c",
   "metadata": {},
   "outputs": [],
   "source": [
    "import torch\n",
    "from transformers import AutoTokenizer, AutoModelForSequenceClassification, Trainer, TrainingArguments\n",
    "import numpy as np\n",
    "from sklearn.model_selection import train_test_split\n",
    "from sklearn.metrics import confusion_matrix, ConfusionMatrixDisplay\n",
    "from sklearn.ensemble import RandomForestClassifier\n",
    "import matplotlib.pyplot as plt\n",
    "import pandas as pd\n",
    "from sklearn.preprocessing import LabelEncoder\n",
    "from sklearn.metrics import accuracy_score, precision_score, recall_score, f1_score, confusion_matrix\n",
    "import seaborn as sns\n",
    "import matplotlib.pyplot as plt"
   ]
  },
  {
   "cell_type": "code",
   "execution_count": 2,
   "id": "ff00b93f-95b4-4172-95fe-69cca0b8d5e8",
   "metadata": {},
   "outputs": [
    {
     "data": {
      "text/html": [
       "<div>\n",
       "<style scoped>\n",
       "    .dataframe tbody tr th:only-of-type {\n",
       "        vertical-align: middle;\n",
       "    }\n",
       "\n",
       "    .dataframe tbody tr th {\n",
       "        vertical-align: top;\n",
       "    }\n",
       "\n",
       "    .dataframe thead th {\n",
       "        text-align: right;\n",
       "    }\n",
       "</style>\n",
       "<table border=\"1\" class=\"dataframe\">\n",
       "  <thead>\n",
       "    <tr style=\"text-align: right;\">\n",
       "      <th></th>\n",
       "      <th>Text</th>\n",
       "      <th>label</th>\n",
       "    </tr>\n",
       "  </thead>\n",
       "  <tbody>\n",
       "    <tr>\n",
       "      <th>0</th>\n",
       "      <td>راىع</td>\n",
       "      <td>Positive</td>\n",
       "    </tr>\n",
       "    <tr>\n",
       "      <th>1</th>\n",
       "      <td>روعه</td>\n",
       "      <td>Positive</td>\n",
       "    </tr>\n",
       "    <tr>\n",
       "      <th>2</th>\n",
       "      <td>جمييل</td>\n",
       "      <td>Positive</td>\n",
       "    </tr>\n",
       "    <tr>\n",
       "      <th>3</th>\n",
       "      <td>حلمي💔</td>\n",
       "      <td>Neutral</td>\n",
       "    </tr>\n",
       "    <tr>\n",
       "      <th>4</th>\n",
       "      <td>احبكم</td>\n",
       "      <td>Positive</td>\n",
       "    </tr>\n",
       "    <tr>\n",
       "      <th>...</th>\n",
       "      <td>...</td>\n",
       "      <td>...</td>\n",
       "    </tr>\n",
       "    <tr>\n",
       "      <th>1514</th>\n",
       "      <td>نبغي قرض الله يجزآكم خير ولا حولنا لبنك آخر</td>\n",
       "      <td>Mixed</td>\n",
       "    </tr>\n",
       "    <tr>\n",
       "      <th>1515</th>\n",
       "      <td>شكرا بارك الله فيك بس الأسعار غير موجودة\\nعلى ...</td>\n",
       "      <td>Mixed</td>\n",
       "    </tr>\n",
       "    <tr>\n",
       "      <th>1516</th>\n",
       "      <td>شماغ ممتاز 👌🏽. بس مارح اشتري منكم. 👎🏼 علان تعبان</td>\n",
       "      <td>Negative</td>\n",
       "    </tr>\n",
       "    <tr>\n",
       "      <th>1517</th>\n",
       "      <td>قسط مرتفع نتمنى تخفيض تحت ١٠٠٠ الاسعار عالية ج...</td>\n",
       "      <td>Negative</td>\n",
       "    </tr>\n",
       "    <tr>\n",
       "      <th>1518</th>\n",
       "      <td>بحجز موعد صيانة الموقع معلق كلمتكم امس قلتوا ت...</td>\n",
       "      <td>Mixed</td>\n",
       "    </tr>\n",
       "  </tbody>\n",
       "</table>\n",
       "<p>1519 rows × 2 columns</p>\n",
       "</div>"
      ],
      "text/plain": [
       "                                                   Text     label\n",
       "0                                                  راىع  Positive\n",
       "1                                                  روعه  Positive\n",
       "2                                                 جمييل  Positive\n",
       "3                                                 حلمي💔   Neutral\n",
       "4                                                 احبكم  Positive\n",
       "...                                                 ...       ...\n",
       "1514        نبغي قرض الله يجزآكم خير ولا حولنا لبنك آخر     Mixed\n",
       "1515  شكرا بارك الله فيك بس الأسعار غير موجودة\\nعلى ...     Mixed\n",
       "1516   شماغ ممتاز 👌🏽. بس مارح اشتري منكم. 👎🏼 علان تعبان  Negative\n",
       "1517  قسط مرتفع نتمنى تخفيض تحت ١٠٠٠ الاسعار عالية ج...  Negative\n",
       "1518  بحجز موعد صيانة الموقع معلق كلمتكم امس قلتوا ت...     Mixed\n",
       "\n",
       "[1519 rows x 2 columns]"
      ]
     },
     "execution_count": 2,
     "metadata": {},
     "output_type": "execute_result"
    }
   ],
   "source": [
    "df = pd.read_csv(r\"E:\\Work\\Upshifters Task\\sentiment task - Sheet1.csv\")\n",
    "df = df.dropna()\n",
    "df"
   ]
  },
  {
   "cell_type": "markdown",
   "id": "75c9c9a6-9534-4ead-a26a-28d2a358f531",
   "metadata": {},
   "source": [
    "# No Pre-processing with UBC-NLP/MARBERTv2 splitting train/val/test"
   ]
  },
  {
   "cell_type": "markdown",
   "id": "b5b93587-e41b-4ed6-abce-c21650a09b8d",
   "metadata": {},
   "source": [
    "# Run 3"
   ]
  },
  {
   "cell_type": "code",
   "execution_count": 3,
   "id": "489a48dd-c7ba-44c7-a271-7fce5063d5e6",
   "metadata": {},
   "outputs": [
    {
     "name": "stderr",
     "output_type": "stream",
     "text": [
      "Some weights of BertForSequenceClassification were not initialized from the model checkpoint at UBC-NLP/MARBERTv2 and are newly initialized: ['classifier.bias', 'classifier.weight']\n",
      "You should probably TRAIN this model on a down-stream task to be able to use it for predictions and inference.\n"
     ]
    }
   ],
   "source": [
    "le = LabelEncoder()\n",
    "df['label_encoded'] = le.fit_transform(df['label'])\n",
    "\n",
    "X = df['Text']\n",
    "y = df['label_encoded']\n",
    "\n",
    "X_train, X_temp, y_train, y_temp = train_test_split(X, y, test_size=0.2, stratify=y, random_state=42)\n",
    "X_val, X_test, y_val, y_test = train_test_split(X_temp, y_temp, test_size=0.5, stratify=y_temp, random_state=42)\n",
    "\n",
    "# Using AraBERT, MARBERT, or mBERT for feature extraction and fine-tuning\n",
    "model_name = \"UBC-NLP/MARBERTv2\"  \n",
    "tokenizer = AutoTokenizer.from_pretrained(model_name)\n",
    "model = AutoModelForSequenceClassification.from_pretrained(model_name, num_labels=len(le.classes_))"
   ]
  },
  {
   "cell_type": "code",
   "execution_count": 5,
   "id": "f9341d43-a42d-4174-b699-d95db3135850",
   "metadata": {},
   "outputs": [],
   "source": [
    "# Tokenize the text\n",
    "def tokenize_function(text):\n",
    "    return tokenizer(text, padding=\"max_length\", truncation=True, max_length=128)\n",
    "\n",
    "train_encodings = tokenizer(list(X_train), truncation=True, padding=True, max_length=128)\n",
    "val_encodings = tokenizer(list(X_val), truncation=True, padding=True, max_length=128)\n",
    "test_encodings = tokenizer(list(X_test), truncation=True, padding=True, max_length=128)\n",
    "\n",
    "# Create torch datasets\n",
    "class SentimentDataset(torch.utils.data.Dataset):\n",
    "    def __init__(self, encodings, labels):\n",
    "        self.encodings = encodings\n",
    "        self.labels = labels\n",
    "\n",
    "    def __getitem__(self, idx):\n",
    "        item = {key: torch.tensor(val[idx]) for key, val in self.encodings.items()}\n",
    "        item['labels'] = torch.tensor(self.labels[idx])\n",
    "        return item\n",
    "\n",
    "    def __len__(self):\n",
    "        return len(self.labels)\n",
    "\n",
    "train_dataset = SentimentDataset(train_encodings, y_train.tolist())\n",
    "val_dataset = SentimentDataset(val_encodings, y_val.tolist())\n",
    "test_dataset = SentimentDataset(test_encodings, y_test.tolist())\n",
    "\n",
    "# Fine-tune the model\n",
    "training_args = TrainingArguments(\n",
    "    output_dir='./results_best_model_2',\n",
    "    num_train_epochs=5,\n",
    "    per_device_train_batch_size=16,\n",
    "    per_device_eval_batch_size=16,\n",
    "    warmup_steps=500,\n",
    "    weight_decay=0.01,\n",
    "    logging_dir='./logs_best_model_2',\n",
    "    logging_steps=10,\n",
    "    evaluation_strategy=\"epoch\"\n",
    ")\n",
    "\n",
    "trainer = Trainer(\n",
    "    model=model,\n",
    "    args=training_args,\n",
    "    train_dataset=train_dataset,\n",
    "    eval_dataset=val_dataset\n",
    ")"
   ]
  },
  {
   "cell_type": "code",
   "execution_count": 6,
   "id": "80e7cadc-8b86-423c-b794-21d05be3a60b",
   "metadata": {},
   "outputs": [
    {
     "data": {
      "text/html": [
       "\n",
       "    <div>\n",
       "      \n",
       "      <progress value='380' max='380' style='width:300px; height:20px; vertical-align: middle;'></progress>\n",
       "      [380/380 01:15, Epoch 5/5]\n",
       "    </div>\n",
       "    <table border=\"1\" class=\"dataframe\">\n",
       "  <thead>\n",
       " <tr style=\"text-align: left;\">\n",
       "      <th>Epoch</th>\n",
       "      <th>Training Loss</th>\n",
       "      <th>Validation Loss</th>\n",
       "    </tr>\n",
       "  </thead>\n",
       "  <tbody>\n",
       "    <tr>\n",
       "      <td>1</td>\n",
       "      <td>1.172100</td>\n",
       "      <td>1.084259</td>\n",
       "    </tr>\n",
       "    <tr>\n",
       "      <td>2</td>\n",
       "      <td>0.704500</td>\n",
       "      <td>0.641260</td>\n",
       "    </tr>\n",
       "    <tr>\n",
       "      <td>3</td>\n",
       "      <td>0.465400</td>\n",
       "      <td>0.569875</td>\n",
       "    </tr>\n",
       "    <tr>\n",
       "      <td>4</td>\n",
       "      <td>0.452100</td>\n",
       "      <td>0.619662</td>\n",
       "    </tr>\n",
       "    <tr>\n",
       "      <td>5</td>\n",
       "      <td>0.341500</td>\n",
       "      <td>0.718791</td>\n",
       "    </tr>\n",
       "  </tbody>\n",
       "</table><p>"
      ],
      "text/plain": [
       "<IPython.core.display.HTML object>"
      ]
     },
     "metadata": {},
     "output_type": "display_data"
    },
    {
     "data": {
      "text/plain": [
       "TrainOutput(global_step=380, training_loss=0.7055539143712897, metrics={'train_runtime': 76.0483, 'train_samples_per_second': 79.883, 'train_steps_per_second': 4.997, 'total_flos': 259120223083800.0, 'train_loss': 0.7055539143712897, 'epoch': 5.0})"
      ]
     },
     "execution_count": 6,
     "metadata": {},
     "output_type": "execute_result"
    }
   ],
   "source": [
    "trainer.train()"
   ]
  },
  {
   "cell_type": "code",
   "execution_count": 7,
   "id": "af601467-5ec8-43e9-a75a-8f94fd854058",
   "metadata": {},
   "outputs": [
    {
     "data": {
      "text/html": [],
      "text/plain": [
       "<IPython.core.display.HTML object>"
      ]
     },
     "metadata": {},
     "output_type": "display_data"
    },
    {
     "data": {
      "text/html": [],
      "text/plain": [
       "<IPython.core.display.HTML object>"
      ]
     },
     "metadata": {},
     "output_type": "display_data"
    },
    {
     "name": "stdout",
     "output_type": "stream",
     "text": [
      "Validation Set Evaluation:\n",
      "Accuracy: 0.7763157894736842\n",
      "Precision: 0.7816390330240747\n",
      "Recall: 0.7763157894736842\n",
      "F1 Score: 0.7639118793042605\n",
      "Confusion Matrix:\n",
      "[[ 0  2  0  0]\n",
      " [ 0 55  4  1]\n",
      " [ 0 16 32  7]\n",
      " [ 0  3  1 31]]\n",
      "Test Set Evaluation:\n",
      "Accuracy: 0.7960526315789473\n",
      "Precision: 0.7767738674417135\n",
      "Recall: 0.7960526315789473\n",
      "F1 Score: 0.7844316875319366\n",
      "Confusion Matrix:\n",
      "[[ 0  2  1  0]\n",
      " [ 0 57  3  0]\n",
      " [ 0  9 37  8]\n",
      " [ 0  0  8 27]]\n"
     ]
    },
    {
     "name": "stderr",
     "output_type": "stream",
     "text": [
      "C:\\Users\\Rana Waly\\.conda\\envs\\new_env\\lib\\site-packages\\sklearn\\metrics\\_classification.py:1509: UndefinedMetricWarning: Precision is ill-defined and being set to 0.0 in labels with no predicted samples. Use `zero_division` parameter to control this behavior.\n",
      "  _warn_prf(average, modifier, f\"{metric.capitalize()} is\", len(result))\n",
      "C:\\Users\\Rana Waly\\.conda\\envs\\new_env\\lib\\site-packages\\sklearn\\metrics\\_classification.py:1509: UndefinedMetricWarning: Precision is ill-defined and being set to 0.0 in labels with no predicted samples. Use `zero_division` parameter to control this behavior.\n",
      "  _warn_prf(average, modifier, f\"{metric.capitalize()} is\", len(result))\n"
     ]
    },
    {
     "data": {
      "image/png": "[encoded data removed]",
      "text/plain": [
       "<Figure size 1000x700 with 2 Axes>"
      ]
     },
     "metadata": {},
     "output_type": "display_data"
    }
   ],
   "source": [
    "# Evaluate on validation set\n",
    "val_preds = trainer.predict(val_dataset)\n",
    "val_pred_labels = torch.argmax(torch.tensor(val_preds.predictions), axis=1)\n",
    "\n",
    "# Evaluate on test set\n",
    "test_preds = trainer.predict(test_dataset)\n",
    "test_pred_labels = torch.argmax(torch.tensor(test_preds.predictions), axis=1)\n",
    "\n",
    "# Evaluation metrics\n",
    "val_accuracy = accuracy_score(y_val, val_pred_labels)\n",
    "val_precision = precision_score(y_val, val_pred_labels, average='weighted')\n",
    "val_recall = recall_score(y_val, val_pred_labels, average='weighted')\n",
    "val_f1 = f1_score(y_val, val_pred_labels, average='weighted')\n",
    "val_cm = confusion_matrix(y_val, val_pred_labels)\n",
    "\n",
    "test_accuracy = accuracy_score(y_test, test_pred_labels)\n",
    "test_precision = precision_score(y_test, test_pred_labels, average='weighted')\n",
    "test_recall = recall_score(y_test, test_pred_labels, average='weighted')\n",
    "test_f1 = f1_score(y_test, test_pred_labels, average='weighted')\n",
    "test_cm = confusion_matrix(y_test, test_pred_labels)\n",
    "\n",
    "# Print validation metrics\n",
    "print(\"Validation Set Evaluation:\")\n",
    "print(f\"Accuracy: {val_accuracy}\")\n",
    "print(f\"Precision: {val_precision}\")\n",
    "print(f\"Recall: {val_recall}\")\n",
    "print(f\"F1 Score: {val_f1}\")\n",
    "print(f\"Confusion Matrix:\\n{val_cm}\")\n",
    "\n",
    "# Print test metrics\n",
    "print(\"Test Set Evaluation:\")\n",
    "print(f\"Accuracy: {test_accuracy}\")\n",
    "print(f\"Precision: {test_precision}\")\n",
    "print(f\"Recall: {test_recall}\")\n",
    "print(f\"F1 Score: {test_f1}\")\n",
    "print(f\"Confusion Matrix:\\n{test_cm}\")\n",
    "\n",
    "# Plot confusion matrix\n",
    "plt.figure(figsize=(10, 7))\n",
    "sns.heatmap(test_cm, annot=True, fmt='d', cmap='Blues', xticklabels=le.classes_, yticklabels=le.classes_)\n",
    "plt.xlabel('Predicted')\n",
    "plt.ylabel('Actual')\n",
    "plt.title('Confusion Matrix for Test Set')\n",
    "plt.show()"
   ]
  },
  {
   "cell_type": "code",
   "execution_count": 8,
   "id": "00249afb-4812-4b6c-9494-7fcb4802fe0b",
   "metadata": {},
   "outputs": [
    {
     "data": {
      "text/plain": [
       "('./results_best_model_2\\\\tokenizer_config.json',\n",
       " './results_best_model_2\\\\special_tokens_map.json',\n",
       " './results_best_model_2\\\\vocab.txt',\n",
       " './results_best_model_2\\\\added_tokens.json',\n",
       " './results_best_model_2\\\\tokenizer.json')"
      ]
     },
     "execution_count": 8,
     "metadata": {},
     "output_type": "execute_result"
    }
   ],
   "source": [
    "model.save_pretrained('./results_best_model_2')\n",
    "tokenizer.save_pretrained('./results_best_model_2')"
   ]
  },
  {
   "cell_type": "markdown",
   "id": "b6aff821-aca2-4ef2-8e88-50e1e24a564e",
   "metadata": {},
   "source": [
    "# Load the saved model"
   ]
  },
  {
   "cell_type": "code",
   "execution_count": 4,
   "id": "3eadf2ae-5807-4146-b24a-6adfef4726da",
   "metadata": {},
   "outputs": [],
   "source": [
    "#Some test cases\n",
    "# [\n",
    "#     {\"text\": \"شلون اتواصل مع خدمة العملاء عندي شكوى\"},\n",
    "#     {\"text\": \"الف مبروك، ويستاهلون وعقبالي بإذن الله 😭🤲🤍🌙\"},\n",
    "#     {\"text\": \"طبعاً سيارة جملية بزمنها كانت هي الأفضل ألا ليت الزمان يعود يوماً 🇸🇦\"},\n",
    "#     {\"text\": \"عود ارين مستخرج من جزيره ارين في دوله اندونيسيا حيث يتم انتقاء العود بعنايه لتغير رائحه المكان 🌸#حاضر_وموجود\"}\n",
    "# ]"
   ]
  },
  {
   "cell_type": "code",
   "execution_count": 2,
   "id": "94d34f76-d19b-4f0d-8017-f06877adbdd6",
   "metadata": {},
   "outputs": [],
   "source": [
    "from transformers import AutoModelForSequenceClassification, AutoTokenizer\n",
    "\n",
    "model = AutoModelForSequenceClassification.from_pretrained('./results_best_model_2')\n",
    "tokenizer = AutoTokenizer.from_pretrained('./results_best_model_2')"
   ]
  },
  {
   "cell_type": "code",
   "execution_count": 3,
   "id": "6928f047-7b9f-4399-b141-68b6a52df988",
   "metadata": {},
   "outputs": [
    {
     "data": {
      "text/html": [],
      "text/plain": [
       "<IPython.core.display.HTML object>"
      ]
     },
     "metadata": {},
     "output_type": "display_data"
    },
    {
     "name": "stdout",
     "output_type": "stream",
     "text": [
      "Text: الف مبروك، ويستاهلون\n",
      "وعقبالي بإذن الله 😭🤲🤍🌙\n",
      "Predicted Label: positive\n"
     ]
    }
   ],
   "source": [
    "import torch\n",
    "from transformers import Trainer, AutoTokenizer, AutoModelForSequenceClassification\n",
    "from sklearn.preprocessing import LabelEncoder\n",
    "\n",
    "# Label encoder setup\n",
    "le = LabelEncoder()\n",
    "le.fit([\"mixed\", \"negative\", \"neutral\", \"positive\"])   # Adjust based on your classes\n",
    "\n",
    "# Define your new data\n",
    "new_texts = [\"\"\"الف مبروك، ويستاهلون\n",
    "وعقبالي بإذن الله 😭🤲🤍🌙\"\"\"]\n",
    "\n",
    "# Tokenize the new data\n",
    "new_encodings = tokenizer(new_texts, truncation=True, padding=True, max_length=128, return_tensors=\"pt\")\n",
    "\n",
    "# Create a simple dataset class for the new data\n",
    "class SimpleDataset(torch.utils.data.Dataset):\n",
    "    def __init__(self, encodings):\n",
    "        self.encodings = encodings\n",
    "\n",
    "    def __getitem__(self, idx):\n",
    "        item = {key: val[idx] for key, val in self.encodings.items()}\n",
    "        return item\n",
    "\n",
    "    def __len__(self):\n",
    "        return len(self.encodings['input_ids'])\n",
    "\n",
    "# Create the dataset\n",
    "new_dataset = SimpleDataset(new_encodings)\n",
    "\n",
    "# Create a trainer with the same training arguments\n",
    "trainer = Trainer(\n",
    "    model=model\n",
    ")\n",
    "\n",
    "# Make predictions\n",
    "predictions = trainer.predict(new_dataset)\n",
    "predicted_labels = torch.argmax(torch.tensor(predictions.predictions), axis=1).numpy()\n",
    "\n",
    "# Decode the predicted labels\n",
    "predicted_class_names = le.inverse_transform(predicted_labels)\n",
    "\n",
    "# Print the texts along with their predicted labels\n",
    "for text, label in zip(new_texts, predicted_class_names):\n",
    "    print(f\"Text: {text}\")\n",
    "    print(f\"Predicted Label: {label}\")\n"
   ]
  },
  {
   "cell_type": "code",
   "execution_count": null,
   "id": "902088ff-c97d-4ac9-a1c9-c6b7378579d0",
   "metadata": {},
   "outputs": [],
   "source": []
  }
 ],
 "metadata": {
  "kernelspec": {
   "display_name": "Python 3 (ipykernel)",
   "language": "python",
   "name": "python3"
  },
  "language_info": {
   "codemirror_mode": {
    "name": "ipython",
    "version": 3
   },
   "file_extension": ".py",
   "mimetype": "text/x-python",
   "name": "python",
   "nbconvert_exporter": "python",
   "pygments_lexer": "ipython3",
   "version": "3.9.19"
  }
 },
 "nbformat": 4,
 "nbformat_minor": 5
}
